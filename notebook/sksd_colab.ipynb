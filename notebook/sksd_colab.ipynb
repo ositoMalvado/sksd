{
 "cells": [
  {
   "cell_type": "markdown",
   "metadata": {
    "id": "COlOWoTOMKSP"
   },
   "source": [
    "[Github](https://github.com/ositoMalvado/sksd)\n",
    "\n",
    "**webui list** = A1111, Forge, ComfyUI, ReForge<br>\n",
    "**sd list** = 1.5 or xl<br>\n",
    "**civitai_key** = get your civitai api key from [here](https://civitai.com/user/account)<br>\n",
    "**hf_read_token** = for downloading models from your private repo (**optional**), make it empty hf_read_token = ' ' if you dont want to do anything about it"
   ]
  },
  {
   "cell_type": "markdown",
   "metadata": {
    "id": "jGqu75B1Qqam"
   },
   "source": [
    "### Webui Installer"
   ]
  },
  {
   "cell_type": "code",
   "execution_count": null,
   "metadata": {
    "id": "tQqllRM-MCnT"
   },
   "outputs": [],
   "source": [
    "webui = 'A1111'\n",
    "sd = 'xl'\n",
    "civitai_key = 'your civitai api key'\n",
    "hf_read_token = 'your huggingface READ token (optional)'\n",
    "\n",
    "!curl -sLo /content/setup.py https://github.com/ositoMalvado/sksd/raw/main/script/KC/setup.py\n",
    "%run /content/setup.py --webui=$webui --sd=$sd --civitai_key=$civitai_key --hf_read_token=$hf_read_token"
   ]
  },
  {
   "cell_type": "code",
   "execution_count": null,
   "metadata": {
    "id": "9TeZZ9WrOsxS"
   },
   "outputs": [],
   "source": [
    "''' SD Extensions / ComfyUI Custom Nodes '''\n",
    "%cd -q $Extensions\n",
    "!git clone\n",
    "\n",
    "''' VAE '''\n",
    "%cd -q $VAE\n",
    "%download\n",
    "\n",
    "''' Embeddings '''\n",
    "%cd -q $Embeddings\n",
    "%download\n",
    "\n",
    "''' Upscalers '''\n",
    "%cd -q $Upscalers\n",
    "%download"
   ]
  },
  {
   "cell_type": "code",
   "execution_count": null,
   "metadata": {
    "id": "CuR9tiSnPRBM"
   },
   "outputs": [],
   "source": [
    "''' Checkpoint '''\n",
    "%cd -q $CKPT\n",
    "%download https://civitai.com/api/download/models/785352 bigblu25dmix25DStyle_v10.safetensors\n",
    "\n",
    "''' LoRA '''\n",
    "%cd -q $LORA\n",
    "%download https://civitai.com/models/122359/detail-tweaker-xl\n",
    "%download https://civitai.com/models/669571/pony-add-more-details"
   ]
  },
  {
   "cell_type": "code",
   "execution_count": null,
   "metadata": {
    "id": "wO4OTCOWALEc"
   },
   "outputs": [],
   "source": [
    "''' Controlnet '''\n",
    "%run $Controlnet_Widget"
   ]
  },
  {
   "cell_type": "markdown",
   "metadata": {
    "id": "BB8pCZnrQnR9"
   },
   "source": [
    "### Launcher\n",
    "args list :\n",
    "-  **A1111** = `--xformers --no-half-vae`\n",
    "- **Forge** = `--disable-xformers --opt-sdp-attention --cuda-stream --pin-shared-memory`\n",
    "- **ComfyUI** = `--dont-print-server --preview-method auto --use-pytorch-cross-attention`\n",
    "- **ReForge** = `--xformers --cuda-stream --pin-shared-memory`\n",
    "<br><br>\n",
    "\n",
    "For ComfyUI, add `--skip-comfyui-check` to skip checking custom node dependencies"
   ]
  },
  {
   "cell_type": "code",
   "execution_count": null,
   "metadata": {
    "id": "1rU4mCbvPpzs"
   },
   "outputs": [],
   "source": [
    "%cd -q $WebUI\n",
    "%run sksd.py --xformers --no-half-vae"
   ]
  }
 ],
 "metadata": {
  "accelerator": "GPU",
  "colab": {
   "gpuType": "T4",
   "provenance": []
  },
  "kernelspec": {
   "display_name": "Python 3",
   "name": "python3"
  },
  "language_info": {
   "name": "python"
  }
 },
 "nbformat": 4,
 "nbformat_minor": 0
}
