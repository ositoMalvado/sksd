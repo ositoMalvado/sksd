{
  "cells": [
    {
      "cell_type": "markdown",
      "metadata": {
        "id": "zajFIdt6LLGi"
      },
      "source": [
        "# **Bienvenidos a sksd colab! (❁´◡`❁)**"
      ]
    },
    {
      "cell_type": "markdown",
      "metadata": {
        "id": "jGqu75B1Qqam"
      },
      "source": [
        "# **💕 - Instalar WebUI**"
      ]
    },
    {
      "cell_type": "code",
      "execution_count": null,
      "metadata": {
        "id": "tQqllRM-MCnT",
        "cellView": "form"
      },
      "outputs": [],
      "source": [
        "#@markdown ### **❤️ - Configuración**\n",
        "#@markdown Solo hace falta correr esta celda una sola vez\n",
        "from IPython.display import clear_output\n",
        "webui = \"A1111\" #@param [\"A1111\", \"Forge\", \"ComfyUI\", \"ReForge\"]\n",
        "sd = \"xl\" #@param [\"1.5\", \"xl\"]\n",
        "civitai_key = \"\" #@param {type:\"string\"}\n",
        "hf_read_token = \"\" #@param {type:\"string\"}\n",
        "\n",
        "!curl -sLo /content/setup.py https://github.com/ositoMalvado/sksd/raw/main/script/KC/setup.py\n",
        "%run /content/setup.py --webui=$webui --sd=$sd --civitai_key=$civitai_key --hf_read_token=$hf_read_token\n",
        "clear_output()\n",
        "print(\"✅ - Configuración finalizada\")"
      ]
    },
    {
      "cell_type": "markdown",
      "metadata": {
        "id": "y48KtA6HJ7nE"
      },
      "source": [
        "### **👽 - Extensiones y Modelos**\n",
        "Para descargar extesniones debes hacer así:\n",
        "> `%git clone url_de_extension`\n",
        "\n",
        "Para descargar los modelos debes colocarlos así:\n",
        "> `%download url_modelo nombre_modelo.extension_modelo`"
      ]
    },
    {
      "cell_type": "code",
      "execution_count": null,
      "metadata": {
        "id": "9TeZZ9WrOsxS"
      },
      "outputs": [],
      "source": [
        "''' SD Extensions / ComfyUI Custom Nodes '''\n",
        "%cd -q $Extensions\n",
        "!git clone\n",
        "\n",
        "''' VAE '''\n",
        "%cd -q $VAE\n",
        "%download\n",
        "\n",
        "''' Embeddings '''\n",
        "%cd -q $Embeddings\n",
        "%download\n",
        "\n",
        "''' Upscalers '''\n",
        "%cd -q $Upscalers\n",
        "%download"
      ]
    },
    {
      "cell_type": "code",
      "execution_count": null,
      "metadata": {
        "id": "CuR9tiSnPRBM"
      },
      "outputs": [],
      "source": [
        "''' Checkpoint '''\n",
        "%cd -q $CKPT\n",
        "%download https://civitai.com/api/download/models/782002 juggernautXL_juggXIByRundiffusion.safetensors\n",
        "\n",
        "''' LoRA '''\n",
        "%cd -q $LORA\n",
        "%download https://civitai.com/models/122359/detail-tweaker-xl\n",
        "%download https://civitai.com/models/669571/pony-add-more-details"
      ]
    },
    {
      "cell_type": "code",
      "execution_count": null,
      "metadata": {
        "id": "wO4OTCOWALEc"
      },
      "outputs": [],
      "source": [
        "''' Controlnet '''\n",
        "%run $Controlnet_Widget"
      ]
    },
    {
      "cell_type": "markdown",
      "metadata": {
        "id": "BB8pCZnrQnR9"
      },
      "source": [
        "# **☀️ - Usar WebUI**\n",
        "Utiliza la lista de argumentos según la WebUI:\n",
        "-  **A1111** = `--xformers --no-half-vae`\n",
        "- **Forge** = `--disable-xformers --opt-sdp-attention --cuda-stream --pin-shared-memory`\n",
        "- **ComfyUI** = `--dont-print-server --preview-method auto --use-pytorch-cross-attention`\n",
        "- **ReForge** = `--xformers --cuda-stream --pin-shared-memory`\n",
        "<br>\n",
        "\n",
        "Para ComfyUI, añadir `--skip-comfyui-check` para no chequear las dependencias."
      ]
    },
    {
      "cell_type": "code",
      "execution_count": null,
      "metadata": {
        "id": "1rU4mCbvPpzs"
      },
      "outputs": [],
      "source": [
        "%cd -q $WebUI\n",
        "%run sksd.py --xformers --no-half-vae"
      ]
    }
  ],
  "metadata": {
    "accelerator": "GPU",
    "colab": {
      "collapsed_sections": [
        "jGqu75B1Qqam",
        "BB8pCZnrQnR9"
      ],
      "gpuType": "T4",
      "provenance": []
    },
    "kernelspec": {
      "display_name": "Python 3",
      "name": "python3"
    },
    "language_info": {
      "name": "python"
    }
  },
  "nbformat": 4,
  "nbformat_minor": 0
}