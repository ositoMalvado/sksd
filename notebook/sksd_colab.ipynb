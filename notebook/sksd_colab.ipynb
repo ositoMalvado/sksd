{
  "cells": [
    {
      "cell_type": "markdown",
      "metadata": {
        "id": "COlOWoTOMKSP"
      },
      "source": [
        "<a href=\"https://github.com/ositoMalvado/sksd\">\n",
        "  <img alt=\"GitHub repo\" src=\"https://img.shields.io/badge/GitHub-6e5494?style=for-the-badge&logo=github&logoColor=white\"/>\n",
        "</a>\n",
        "\n",
        "**webui list** = A1111, Forge, ComfyUI, ReForge, SwarmUI<br>\n",
        "**sd list** = 1.5 or XL<br>\n",
        "**civitai_key** = usa tu Civitai API KEY desde [aquí](https://civitai.com/user/account)<br>\n",
        "**hf_read_token** = para descargar modelos desde repo privado de HuggingFace (**opcional**)"
      ]
    },
    {
      "cell_type": "markdown",
      "metadata": {},
      "source": [
        "## Instalación"
      ]
    },
    {
      "cell_type": "code",
      "execution_count": null,
      "metadata": {
        "id": "tQqllRM-MCnT"
      },
      "outputs": [],
      "source": [
        "# @title WebUI Installer {\"display-mode\":\"form\"}\n",
        "\n",
        "ui = 'A1111' # @param [\"A1111\", \"Forge\", \"ComfyUI\", \"ReForge\", \"SwarmUI\"]\n",
        "sd = 'XL' # @param [\"1.5\", \"XL\"]\n",
        "civitai___key = '' # @param {type:\"string\", placeholder:\"your Civitai API key\"}\n",
        "hf_read_token = '' # @param {type:\"string\", placeholder:\"your Huggingface READ token (optional)\"}\n",
        "\n",
        "!curl -sLo /content/setup.py https://github.com/ositoMalvado/sksd/raw/main/script/KC/setup.py\n",
        "%run /content/setup.py --webui=\"$ui\" --sd=\"$sd\" --civitai_key=\"$civitai___key\" --hf_read_token=\"$hf_read_token\""
      ]
    },
    {
      "cell_type": "markdown",
      "metadata": {},
      "source": [
        "## Descarga de Extensiones, Upscalers, Modelos, etc"
      ]
    },
    {
      "cell_type": "code",
      "execution_count": null,
      "metadata": {
        "id": "9TeZZ9WrOsxS"
      },
      "outputs": [],
      "source": [
        "''' SD Extensions / ComfyUI Custom Nodes '''\n",
        "%cd -q $Extensions\n",
        "!git clone https://github.com/adieyal/sd-dynamic-prompts\n",
        "\n",
        "''' VAE '''\n",
        "%cd -q $VAE\n",
        "%download\n",
        "\n",
        "''' Embeddings '''\n",
        "%cd -q $Embeddings\n",
        "%download\n",
        "\n",
        "''' Upscalers '''\n",
        "%cd -q $Upscalers\n",
        "%download\n",
        "\n",
        "''' FLUX Unet '''\n",
        "%cd -q $UNET\n",
        "%download\n",
        "\n",
        "''' FLUX Clip '''\n",
        "%cd -q $CLIP\n",
        "%download"
      ]
    },
    {
      "cell_type": "code",
      "execution_count": null,
      "metadata": {
        "id": "CuR9tiSnPRBM"
      },
      "outputs": [],
      "source": [
        "''' Checkpoint '''\n",
        "%cd -q $CKPT\n",
        "%download https://civitai.com/api/download/models/782002 juggernautXL_juggXIByRundiffusion.safetensors\n",
        "\n",
        "''' LoRA '''\n",
        "%cd -q $LORA\n",
        "%download https://civitai.com/models/122359/detail-tweaker-xl\n",
        "%download https://civitai.com/models/669571/pony-add-more-details"
      ]
    },
    {
      "cell_type": "code",
      "execution_count": null,
      "metadata": {
        "id": "wO4OTCOWALEc"
      },
      "outputs": [],
      "source": [
        "''' Controlnet '''\n",
        "%run $Controlnet_Widget"
      ]
    },
    {
      "cell_type": "markdown",
      "metadata": {
        "id": "BB8pCZnrQnR9"
      },
      "source": [
        "## Ejecución\n",
        "dependiendo del WebUI instalado debes agregar los siguientes argumentos a `%run sksd.py` :\n",
        "-  **A1111** = `--xformers`\n",
        "- **Forge** = `--disable-xformers --opt-sdp-attention --cuda-stream --pin-shared-memory`\n",
        "- **ComfyUI** = `--dont-print-server --preview-method auto --use-pytorch-cross-attention`\n",
        "- **ReForge** = `--xformers --cuda-stream --pin-shared-memory`\n",
        "- **SwarmUI** = `--launch_mode none`\n",
        "<br><br>\n",
        "\n",
        "Para ComfyUI, agregar `--skip-comfyui-check` para saltar la pre cargar de Custom Nodes\n",
        "\n",
        "Agrega **--N=ngrok_token** para iniciar tunnel NGROK<br>\n",
        "Agrega **--Z=zrok_token** para iniciar tunnel ZROK"
      ]
    },
    {
      "cell_type": "code",
      "execution_count": null,
      "metadata": {
        "id": "ps7AEUdGX2iE"
      },
      "outputs": [],
      "source": [
        "%cd -q $WebUI\n",
        "%run sksd.py --xformers"
      ]
    }
  ],
  "metadata": {
    "accelerator": "GPU",
    "colab": {
      "gpuType": "T4",
      "provenance": []
    },
    "kernelspec": {
      "display_name": "Python 3",
      "name": "python3"
    },
    "language_info": {
      "name": "python"
    }
  },
  "nbformat": 4,
  "nbformat_minor": 0
}
