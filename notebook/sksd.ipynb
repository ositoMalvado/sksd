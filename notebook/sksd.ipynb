{
 "cells": [
  {
   "cell_type": "markdown",
   "id": "057be073-854b-42ea-be0c-c0dcf2bdc631",
   "metadata": {},
   "source": [
    "<a href=\"https://github.com/ositoMalvado/sksd\">\n",
    "  <img alt=\"GitHub repo\" src=\"https://img.shields.io/badge/GitHub-6e5494?style=for-the-badge&logo=github&logoColor=white\"/>\n",
    "</a>"
   ]
  },
  {
   "cell_type": "markdown",
   "id": "26786ea3-e294-44b6-900a-798b0880de76",
   "metadata": {
    "tags": []
   },
   "source": [
    "## Instalar Entorno\n",
    "- Luego de instalar, no hace falta reiniciar SageMaker, continuar con próxima celda, ignorar advertencia."
   ]
  },
  {
   "cell_type": "code",
   "execution_count": null,
   "id": "3574c7ad-21c7-4b83-ba0d-ae6dc50bad74",
   "metadata": {
    "tags": [],
    "vscode": {
     "languageId": "python"
    }
   },
   "outputs": [],
   "source": [
    "!curl -sLo ~/.conda/install.py https://github.com/ositoMalvado/sksd/raw/main/script/SM/conda.py\n",
    "%run ~/.conda/install.py"
   ]
  },
  {
   "cell_type": "markdown",
   "id": "011fac09-3453-4fea-bad6-da971f037c3b",
   "metadata": {
    "tags": [],
    "toc-hr-collapsed": true
   },
   "source": [
    "## WebUI\n",
    "- En esta celda podrás elegir entre los diferentes WebUI para utilizar Stable Diffusion"
   ]
  },
  {
   "cell_type": "code",
   "execution_count": null,
   "id": "3b4990da-52c9-4728-b04a-a989215221e3",
   "metadata": {
    "tags": [],
    "vscode": {
     "languageId": "python"
    }
   },
   "outputs": [],
   "source": [
    "!curl -sLo ~/.conda/setup.py https://github.com/ositoMalvado/sksd/raw/main/script/SM/setup.py\n",
    "%run ~/.conda/setup.py"
   ]
  },
  {
   "cell_type": "markdown",
   "id": "67b75261",
   "metadata": {},
   "source": [
    "### Extensiones, VAE, Upscalers, etc.\n",
    "- Descarga de Extensiones / Custom Nodes, VAE, Embeddings, Upscalers y modelos para Flux"
   ]
  },
  {
   "cell_type": "code",
   "execution_count": null,
   "id": "598827fd-7cf0-4d73-b982-c417916b7e96",
   "metadata": {
    "tags": [],
    "vscode": {
     "languageId": "python"
    }
   },
   "outputs": [],
   "source": [
    "''' SD Extensions / ComfyUI Custom Nodes '''\n",
    "%cd -q $Extensions\n",
    "!git clone https://github.com/adieyal/sd-dynamic-prompts\n",
    "\n",
    "''' VAE '''\n",
    "%cd -q $VAE\n",
    "%download\n",
    "\n",
    "''' Embeddings '''\n",
    "%cd -q $Embeddings\n",
    "%download\n",
    "\n",
    "''' Upscalers '''\n",
    "%cd -q $Upscalers\n",
    "%download\n",
    "\n",
    "''' Flux Unet '''\n",
    "%cd -q $UNET\n",
    "%download\n",
    "\n",
    "''' Flux Clip '''\n",
    "%cd -q $CLIP\n",
    "%download"
   ]
  },
  {
   "cell_type": "markdown",
   "id": "0a0d2b52-763f-4002-ad88-1d4d8fcfded9",
   "metadata": {
    "tags": []
   },
   "source": [
    "### *Permanente* - Checkpoints, Loras, etc."
   ]
  },
  {
   "cell_type": "code",
   "execution_count": null,
   "id": "a95d3607-519e-48ae-87e6-92e2e816dcf5",
   "metadata": {
    "vscode": {
     "languageId": "python"
    }
   },
   "outputs": [],
   "source": [
    "''' Checkpoint '''\n",
    "%cd -q $CKPT\n",
    "%download https://civitai.com/api/download/models/782002 juggernautXL_juggXIByRundiffusion.safetensors\n",
    "\n",
    "''' LoRA '''\n",
    "%cd -q $LORA\n",
    "%download https://civitai.com/api/download/models/87153 add_detail.safetensors\n",
    "%download https://civitai.com/api/download/models/62833 Detail_Tweaker.safetensors"
   ]
  },
  {
   "cell_type": "markdown",
   "id": "26452e55-03b1-48a3-a18f-d2a2c5a63d84",
   "metadata": {
    "tags": []
   },
   "source": [
    "### *Temporal* - Checkpoints, Loras, etc."
   ]
  },
  {
   "cell_type": "code",
   "execution_count": null,
   "id": "f8a8e5bc-ebd3-41e5-a1ca-00037a623cd5",
   "metadata": {
    "tags": [],
    "vscode": {
     "languageId": "python"
    }
   },
   "outputs": [],
   "source": [
    "''' Controlnet '''\n",
    "%run $Controlnet_Widget"
   ]
  },
  {
   "cell_type": "code",
   "execution_count": null,
   "id": "07448e32-6837-44db-bef3-4dd8217e538e",
   "metadata": {
    "tags": [],
    "vscode": {
     "languageId": "python"
    }
   },
   "outputs": [],
   "source": [
    "''' TMP Checkpoint '''\n",
    "%cd -q $TMP_CKPT\n",
    "%download https://civitai.com/api/download/models/357609 Juggernaut-XL_V9-RDPhoto2-Lightning_4S.safetensors\n",
    "\n",
    "''' TMP LoRA '''\n",
    "%cd -q $TMP_LORA\n",
    "%download https://huggingface.co/Linaqruf/style-enhancer-xl-lora/resolve/main/style-enhancer-xl.safetensors\n",
    "%download https://huggingface.co/Linaqruf/anime-detailer-xl-lora/resolve/main/anime-detailer-xl.safetensors"
   ]
  },
  {
   "cell_type": "markdown",
   "id": "b4b19ba2-ae2b-481b-9b39-be6eac7a0f77",
   "metadata": {
    "tags": []
   },
   "source": [
    "# Ejecución\n",
    "<span style=\"font-size:14px;\">• agregar <span style=\"color:red;\">--skip-widget</span> para iniciar inmediatamente.</span><br>\n",
    "<span style=\"font-size:14px;\">• Para ComfyUI, agrega <span style=\"color:red\">--skip-comfyui-check</span> para iniciar más rápido, sin chequear dependencias de Custom Nodes</span><br>\n",
    "\n",
    "<span style=\"font-size:13px;\">\n",
    "  <span style=\"color:#ab23ff\">%</span>run sksd.<span style=\"color:#42a5f5\">py</span>\n",
    "  <span style=\"color:#ab23ff\">--</span>skip<span style=\"color:#ab23ff\">-</span>widget \n",
    "  <span style=\"color:#ab23ff\">--</span>skip<span style=\"color:#ab23ff\">-</span>comfyui-check\n",
    "</span>"
   ]
  },
  {
   "cell_type": "code",
   "execution_count": null,
   "id": "ee62d9df-7cde-48bd-9b8b-cf01a2ae3a1c",
   "metadata": {
    "vscode": {
     "languageId": "python"
    }
   },
   "outputs": [],
   "source": [
    "%cd -q $WebUI\n",
    "\n",
    "%run sksd.py"
   ]
  },
  {
   "cell_type": "markdown",
   "id": "bfc58f9f-9be7-431e-9859-f75684eda0cf",
   "metadata": {
    "jp-MarkdownHeadingCollapsed": true,
    "tags": []
   },
   "source": [
    "## Utilidades"
   ]
  },
  {
   "cell_type": "code",
   "execution_count": null,
   "id": "bdf1c5e2-14ae-418b-aa87-3dfcf07e9135",
   "metadata": {
    "tags": [],
    "vscode": {
     "languageId": "python"
    }
   },
   "outputs": [],
   "source": [
    "''' Registrar cuenta ZROK '''\n",
    "%zrok_register"
   ]
  },
  {
   "cell_type": "code",
   "execution_count": null,
   "id": "7ca34e73-7d82-4eb7-9275-13ac2fe1ee75",
   "metadata": {
    "vscode": {
     "languageId": "python"
    }
   },
   "outputs": [],
   "source": [
    "''' Cambiar CIVITAI API KEY '''\n",
    "%change_key"
   ]
  },
  {
   "cell_type": "markdown",
   "id": "6b74f461-3a60-44fe-8d96-b6fe2f0105a5",
   "metadata": {
    "id": "bf5499c3-18fb-4325-8c37-5298751e4f97",
    "slideshow": {
     "slide_type": "skip"
    },
    "tags": []
   },
   "source": [
    "#### Almacenamiento"
   ]
  },
  {
   "cell_type": "code",
   "execution_count": null,
   "id": "fe9b41c3-932e-442c-9d5e-d43b83a8096d",
   "metadata": {
    "tags": [],
    "vscode": {
     "languageId": "python"
    }
   },
   "outputs": [],
   "source": [
    "''' Ver Almacenamiento '''\n",
    "%storage"
   ]
  },
  {
   "cell_type": "code",
   "execution_count": null,
   "id": "9951220b-4c44-4e52-80db-9fe37ab3a6f2",
   "metadata": {
    "tags": [],
    "vscode": {
     "languageId": "python"
    }
   },
   "outputs": [],
   "source": [
    "''' Borrar Imágenes '''\n",
    "%clear_output_images"
   ]
  },
  {
   "cell_type": "code",
   "execution_count": null,
   "id": "ad29fba3-221f-4748-a0c1-9fef2c745c3f",
   "metadata": {
    "tags": [],
    "vscode": {
     "languageId": "python"
    }
   },
   "outputs": [],
   "source": [
    "''' Desinstalar Web UI '''\n",
    "%uninstall_webui"
   ]
  },
  {
   "cell_type": "code",
   "execution_count": null,
   "id": "9e058676-e9cc-4a39-aeae-c86852d44f5e",
   "metadata": {
    "tags": [],
    "vscode": {
     "languageId": "python"
    }
   },
   "outputs": [],
   "source": [
    "''' BORRAR TODO , reinicia jupyter desde SageMaker después. '''\n",
    "%delete_everything"
   ]
  },
  {
   "cell_type": "markdown",
   "id": "89f767e5-2ab8-41b0-81ed-8fda5af53342",
   "metadata": {
    "tags": []
   },
   "source": [
    "#### ```zip``` Guardar Imágenes"
   ]
  },
  {
   "cell_type": "code",
   "execution_count": null,
   "id": "e264e27c-0b24-463a-8ac7-88571517d370",
   "metadata": {
    "tags": [],
    "vscode": {
     "languageId": "python"
    }
   },
   "outputs": [],
   "source": [
    "%%zipping\n",
    "\n",
    "name    = 'nombre_del_zip'\n",
    "inputs  = $WebUI_Output\n",
    "outputs = $HOME"
   ]
  }
 ],
 "metadata": {
  "kernelspec": {
   "display_name": "",
   "name": ""
  },
  "language_info": {
   "name": ""
  }
 },
 "nbformat": 4,
 "nbformat_minor": 5
}
